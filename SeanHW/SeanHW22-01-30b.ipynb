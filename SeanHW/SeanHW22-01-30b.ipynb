{
 "cells": [
  {
   "cell_type": "markdown",
   "id": "7b88e2ad-bc86-454b-b5f9-db5443999d2a",
   "metadata": {},
   "source": [
    "Saving changes in Binder doesn't do anything! If you want to save, download the file!"
   ]
  },
  {
   "cell_type": "code",
   "execution_count": 1,
   "id": "c10193c1-9deb-421f-89d2-cef9db35662c",
   "metadata": {},
   "outputs": [],
   "source": [
    "from sympy import symbols, sin, integrate, cos,  sqrt, latex, Eq, S, diff"
   ]
  },
  {
   "cell_type": "code",
   "execution_count": 2,
   "id": "8ec19e88-ee6f-4be6-983f-afeec39ad3e0",
   "metadata": {},
   "outputs": [
    {
     "data": {
      "text/latex": [
       "$\\displaystyle x = 0.5 t^{3}$"
      ],
      "text/plain": [
       "Eq(x, 0.5*t**3)"
      ]
     },
     "metadata": {},
     "output_type": "display_data"
    },
    {
     "data": {
      "text/latex": [
       "$\\displaystyle y = 4 \\cos{\\left(2 t \\right)}$"
      ],
      "text/plain": [
       "Eq(y, 4*cos(2*t))"
      ]
     },
     "metadata": {},
     "output_type": "display_data"
    },
    {
     "data": {
      "text/latex": [
       "$\\displaystyle \\frac{dx}{dt} = 1.5 t^{2}$"
      ],
      "text/plain": [
       "Eq(dx/dt, 1.5*t**2)"
      ]
     },
     "metadata": {},
     "output_type": "display_data"
    },
    {
     "data": {
      "text/latex": [
       "$\\displaystyle \\frac{dy}{dt} = - 8 \\sin{\\left(2 t \\right)}$"
      ],
      "text/plain": [
       "Eq(dy/dt, -8*sin(2*t))"
      ]
     },
     "metadata": {},
     "output_type": "display_data"
    }
   ],
   "source": [
    "t = symbols('t')\n",
    "x = 0.5 * t ** 3\n",
    "y = 4 * cos (2 * t)\n",
    "display ( Eq(S('x'), x, evaluate=False) )\n",
    "display ( Eq(S('y'), y, evaluate=False) )\n",
    "dx = diff(x)\n",
    "dy = diff(y)\n",
    "display(Eq(S('dx/dt'), dx, evaluate=False))\n",
    "display(Eq(S('dy/dt'), dy, evaluate=False))"
   ]
  },
  {
   "cell_type": "code",
   "execution_count": 3,
   "id": "7c684f41-3da3-41b2-aa47-a25e5f931cf9",
   "metadata": {},
   "outputs": [
    {
     "data": {
      "text/latex": [
       "$\\displaystyle \\frac{dL}{dt} = 8 \\sqrt{0.03515625 t^{4} + \\sin^{2}{\\left(2 t \\right)}}$"
      ],
      "text/plain": [
       "Eq(dL/dt, 8*sqrt(0.03515625*t**4 + sin(2*t)**2))"
      ]
     },
     "metadata": {},
     "output_type": "display_data"
    }
   ],
   "source": [
    "dL = sqrt(dx**2 + dy**2 )\n",
    "display(Eq(S('dL/dt'), dL, evaluate=False))"
   ]
  },
  {
   "cell_type": "code",
   "execution_count": 4,
   "id": "e2f95aaa-9aa9-4173-998a-771713cebe9b",
   "metadata": {},
   "outputs": [
    {
     "data": {
      "text/latex": [
       "$\\displaystyle L = 8.0 \\int\\limits_{1}^{3} \\sqrt{0.03515625 t^{4} + 1.0 \\sin^{2}{\\left(2 t \\right)}}\\, dt$"
      ],
      "text/plain": [
       "Eq(L, 8.0*Integral(sqrt(0.03515625*t**4 + 1.0*sin(2*t)**2), (t, 1, 3)))"
      ]
     },
     "metadata": {},
     "output_type": "display_data"
    }
   ],
   "source": [
    "L = integrate(dL, (t, 1,3))\n",
    "display(Eq(S('L'), L, evaluate=False))"
   ]
  },
  {
   "cell_type": "code",
   "execution_count": 5,
   "id": "49e3726d-a68d-4f55-88b9-99485ab09bbf",
   "metadata": {},
   "outputs": [
    {
     "data": {
      "text/latex": [
       "$\\displaystyle 17.1967306614177$"
      ],
      "text/plain": [
       "17.1967306614177"
      ]
     },
     "execution_count": 5,
     "metadata": {},
     "output_type": "execute_result"
    }
   ],
   "source": [
    "L.evalf()"
   ]
  },
  {
   "cell_type": "code",
   "execution_count": 6,
   "id": "fb3dcdae-b1b9-4ede-a1b0-e7e12cc01a5f",
   "metadata": {},
   "outputs": [
    {
     "name": "stdout",
     "output_type": "stream",
     "text": [
      "8.0 \\int\\limits_{1}^{3} \\sqrt{0.03515625 t^{4} + 1.0 \\sin^{2}{\\left(2 t \\right)}}\\, dt\n"
     ]
    }
   ],
   "source": [
    "print(latex(L))"
   ]
  }
 ],
 "metadata": {
  "kernelspec": {
   "display_name": "Python 3 (ipykernel)",
   "language": "python",
   "name": "python3"
  },
  "language_info": {
   "codemirror_mode": {
    "name": "ipython",
    "version": 3
   },
   "file_extension": ".py",
   "mimetype": "text/x-python",
   "name": "python",
   "nbconvert_exporter": "python",
   "pygments_lexer": "ipython3",
   "version": "3.9.5"
  }
 },
 "nbformat": 4,
 "nbformat_minor": 5
}
