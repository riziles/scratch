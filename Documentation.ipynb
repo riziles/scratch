{
 "cells": [
  {
   "cell_type": "code",
   "execution_count": 2,
   "id": "2e6ba2ca-72c9-4433-a317-55a4787cc681",
   "metadata": {},
   "outputs": [
    {
     "name": "stdout",
     "output_type": "stream",
     "text": [
      "Hello World\n"
     ]
    }
   ],
   "source": [
    "print(\"Hello World\")"
   ]
  },
  {
   "cell_type": "markdown",
   "id": "e5058497-349c-4256-b6d2-bb2394d2bb62",
   "metadata": {},
   "source": [
    "binder link:\n",
    "\n",
    "<https://mybinder.org/v2/gh/riziles/scratch/main>"
   ]
  },
  {
   "cell_type": "code",
   "execution_count": 1,
   "id": "5274165c-cf12-44a0-8d7e-f384d8faf12d",
   "metadata": {},
   "outputs": [],
   "source": [
    "testvar = 3"
   ]
  },
  {
   "cell_type": "code",
   "execution_count": 2,
   "id": "4a97a996-4e27-4e7a-8ad8-950992a054c1",
   "metadata": {},
   "outputs": [
    {
     "data": {
      "text/plain": [
       "4"
      ]
     },
     "execution_count": 2,
     "metadata": {},
     "output_type": "execute_result"
    }
   ],
   "source": [
    "testvar + 1"
   ]
  },
  {
   "cell_type": "code",
   "execution_count": null,
   "id": "8b18ccab-bafb-468f-aef7-df3b1d3db766",
   "metadata": {},
   "outputs": [],
   "source": []
  }
 ],
 "metadata": {
  "kernelspec": {
   "display_name": "Python 3 (ipykernel)",
   "language": "python",
   "name": "python3"
  },
  "language_info": {
   "codemirror_mode": {
    "name": "ipython",
    "version": 3
   },
   "file_extension": ".py",
   "mimetype": "text/x-python",
   "name": "python",
   "nbconvert_exporter": "python",
   "pygments_lexer": "ipython3",
   "version": "3.7.12"
  }
 },
 "nbformat": 4,
 "nbformat_minor": 5
}
