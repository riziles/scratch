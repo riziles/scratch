{
 "cells": [
  {
   "cell_type": "markdown",
   "id": "26b4183e-60ab-481f-8429-7b2964a44d61",
   "metadata": {},
   "source": [
    "$\\displaystyle p(t) = \\left( \\frac{t^3}{2} , 4 \\cos (2t) \\right) $"
   ]
  },
  {
   "cell_type": "markdown",
   "id": "d34ac29b-e7e8-4d38-8da7-54dbb0560019",
   "metadata": {},
   "source": [
    "$\\displaystyle \\frac{\\partial p}{\\partial t} = \\left( 3 t^2 /2 , -8 \\sin (2t) \\right) $"
   ]
  },
  {
   "cell_type": "markdown",
   "id": "0034a448-1e14-4944-8e2a-01366c0d23fe",
   "metadata": {},
   "source": [
    "$\\displaystyle L = \\int_a^b \\sqrt{ \\left( \\frac{\\partial x}{\\partial t} \\right)^2 +\\left( \\frac{\\partial y}{\\partial t} \\right)^2 } dt $"
   ]
  },
  {
   "cell_type": "markdown",
   "id": "89abb789-7894-4556-9999-0d1c9e1b83a3",
   "metadata": {},
   "source": [
    "$\\displaystyle L = \\int_a^b \\sqrt{ \\left( 3 t^2 /2  \\right)^2 +\\left( -8 \\sin (2t) \\right)^2 } dt $"
   ]
  },
  {
   "cell_type": "markdown",
   "id": "2b4f2d41-905c-4b81-9fa0-fbe373e93487",
   "metadata": {},
   "source": [
    "$\\displaystyle L = \\int_a^b \\sqrt{ 9 t^4/4 + 64 \\sin^2 (2t) } dt $"
   ]
  },
  {
   "cell_type": "code",
   "execution_count": 1,
   "id": "919f0879-66ac-44ad-880c-17cd53d0bae9",
   "metadata": {},
   "outputs": [],
   "source": [
    "from math import sin"
   ]
  },
  {
   "cell_type": "code",
   "execution_count": 4,
   "id": "5739504b-58f2-4e44-be8e-9a20c4ad7556",
   "metadata": {},
   "outputs": [],
   "source": [
    "def dL(t):\n",
    "    dL = (9*t**4/4+64 * (sin(2*t))**2 )**0.5\n",
    "    return dL"
   ]
  },
  {
   "cell_type": "code",
   "execution_count": 12,
   "id": "1afd04fe-4abd-485c-b989-d506cc708cfa",
   "metadata": {},
   "outputs": [],
   "source": [
    "from scipy.integrate import quad"
   ]
  },
  {
   "cell_type": "code",
   "execution_count": 13,
   "id": "0db5cf9d-1eec-4ca2-9d64-2244f37045c4",
   "metadata": {},
   "outputs": [
    {
     "data": {
      "text/plain": [
       "(17.196730661417675, 8.527318662385902e-12)"
      ]
     },
     "execution_count": 13,
     "metadata": {},
     "output_type": "execute_result"
    }
   ],
   "source": [
    "quad(dL, 1,3)"
   ]
  },
  {
   "cell_type": "code",
   "execution_count": null,
   "id": "c10193c1-9deb-421f-89d2-cef9db35662c",
   "metadata": {},
   "outputs": [],
   "source": []
  }
 ],
 "metadata": {
  "kernelspec": {
   "display_name": "Python 3 (ipykernel)",
   "language": "python",
   "name": "python3"
  },
  "language_info": {
   "codemirror_mode": {
    "name": "ipython",
    "version": 3
   },
   "file_extension": ".py",
   "mimetype": "text/x-python",
   "name": "python",
   "nbconvert_exporter": "python",
   "pygments_lexer": "ipython3",
   "version": "3.9.5"
  }
 },
 "nbformat": 4,
 "nbformat_minor": 5
}
